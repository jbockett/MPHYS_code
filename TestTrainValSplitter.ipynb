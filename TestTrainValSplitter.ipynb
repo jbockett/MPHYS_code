{
 "cells": [
  {
   "cell_type": "code",
   "execution_count": 1,
   "metadata": {},
   "outputs": [
    {
     "name": "stdout",
     "output_type": "stream",
     "text": [
      "C:/Users/Jamie Bockett/Documents/University/Physics/Year 4/PHYS498/DalnacardochModels/FloatingBogYOLO/images\n",
      "['07fcfe8d-DJI_20241217135120_0009_T.JPG', '143cfbe8-DJI_20241217135115_0005_T.JPG', '2e3d0ab9-DJI_20241217135117_0007_T.JPG', '800d47ae-DJI_20241217135142_0013_T.JPG', '83ee3cbe-DJI_20241217135148_0015_T.JPG', 'a304ffc6-DJI_20241217135205_0017_T.JPG', 'acc5d3a0-DJI_20241217135127_0011_T.JPG', 'ad78d63d-DJI_20241217135112_0003_T.JPG']\n",
      "['07fcfe8d-DJI_20241217135120_0009_T.JPG', '143cfbe8-DJI_20241217135115_0005_T.JPG', '2e3d0ab9-DJI_20241217135117_0007_T.JPG', '800d47ae-DJI_20241217135142_0013_T.JPG', '83ee3cbe-DJI_20241217135148_0015_T.JPG', 'a304ffc6-DJI_20241217135205_0017_T.JPG', 'acc5d3a0-DJI_20241217135127_0011_T.JPG', 'ad78d63d-DJI_20241217135112_0003_T.JPG']\n",
      "Total number of images: 8\n",
      "Number of training images: 5\n",
      "Number of testing images: 1\n",
      "Number of validation images: 0\n",
      "Data split into training, testing, and validation sets\n"
     ]
    }
   ],
   "source": [
    "## A program to split a directory of files into test, train and validation sets randomly, based on a given percentages\n",
    "# Importing required libraries\n",
    "import os\n",
    "import random\n",
    "import shutil\n",
    "\n",
    "# Directories containing Image and Label files\n",
    "main_dir = \"C:/Users/Jamie Bockett/Documents/University/Physics/Year 4/PHYS498/DalnacardochModels/FloatingBogYOLO\"\n",
    "labels_dir = main_dir + \"/labels\"\n",
    "images_dir = main_dir + \"/images\"\n",
    "\n",
    "# Output directories test, train and validation containing both images and their corresponding labels\n",
    "train_dir = main_dir + \"/train\"\n",
    "test_dir = main_dir + \"/test\"\n",
    "val_dir = main_dir + \"/val\"\n",
    "\n",
    "# Percentage of data to be used for training, testing and validation\n",
    "train_pc = 0.7\n",
    "test_pc = 0.2\n",
    "val_pc = 0.1\n",
    "\n",
    "\n",
    "def split_data(labels_dir, images_dir, train_dir, test_dir, val_dir, train_pc, test_pc, val_pc):\n",
    "    # Get the list of all image files\n",
    "    image_files = os.listdir(images_dir)\n",
    "    print(image_files)\n",
    "    image_files = [f for f in image_files if f.endswith('.JPG')]\n",
    "    print(image_files)\n",
    "    \n",
    "    # Calculate the number of images\n",
    "    num_images = len(image_files)\n",
    "    \n",
    "    # Calculate the number of images for training, testing and validation\n",
    "    num_train = int(train_pc * num_images)\n",
    "    num_test = int(test_pc * num_images)\n",
    "    num_val = int(val_pc * num_images)\n",
    "\n",
    "    print(f\"Total number of images: {num_images}\")\n",
    "    print(f\"Number of training images: {num_train}\")\n",
    "    print(f\"Number of testing images: {num_test}\")\n",
    "    print(f\"Number of validation images: {num_val}\")\n",
    "    \n",
    "    # Create the output directories if they don't exist\n",
    "    os.makedirs(train_dir, exist_ok=True) # exist_ok=True prevents an error if the directory already exists\n",
    "    os.makedirs(test_dir, exist_ok=True)\n",
    "    os.makedirs(val_dir, exist_ok=True)\n",
    "    \n",
    "    # Shuffle the image files\n",
    "    random.shuffle(image_files)\n",
    "    \n",
    "    # Function to copy files\n",
    "    def copy_files(image_file, dest_dir):\n",
    "        label_file = os.path.splitext(image_file)[0] + '.txt'\n",
    "        #print(f\"Copying {image_file} and {label_file} to {dest_dir}\")\n",
    "        shutil.copy(os.path.join(images_dir, image_file), os.path.join(dest_dir, image_file))\n",
    "        shutil.copy(os.path.join(labels_dir, label_file), os.path.join(dest_dir, label_file))\n",
    "    \n",
    "    # Copy the images and labels to the output directories\n",
    "    for i in range(num_train):\n",
    "        copy_files(image_files[i], train_dir)\n",
    "    for i in range(num_train, num_train + num_test):\n",
    "        copy_files(image_files[i], test_dir)\n",
    "    for i in range(num_train + num_test, num_train + num_test + num_val):\n",
    "        copy_files(image_files[i], val_dir)\n",
    "    \n",
    "    print(\"Data split into training, testing, and validation sets\")\n",
    "\n",
    "print(images_dir)\n",
    "\n",
    "# Call the function to split the data\n",
    "split_data(labels_dir, images_dir, train_dir, test_dir, val_dir, train_pc, test_pc, val_pc)"
   ]
  }
 ],
 "metadata": {
  "kernelspec": {
   "display_name": "PHYS498",
   "language": "python",
   "name": "python3"
  },
  "language_info": {
   "codemirror_mode": {
    "name": "ipython",
    "version": 3
   },
   "file_extension": ".py",
   "mimetype": "text/x-python",
   "name": "python",
   "nbconvert_exporter": "python",
   "pygments_lexer": "ipython3",
   "version": "3.13.1"
  }
 },
 "nbformat": 4,
 "nbformat_minor": 2
}
